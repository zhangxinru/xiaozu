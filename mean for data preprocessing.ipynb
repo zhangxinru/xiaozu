{
 "cells": [
  {
   "cell_type": "code",
   "execution_count": null,
   "metadata": {},
   "outputs": [],
   "source": [
    "import numpy as np\n",
    "import pandas as pd\n",
    "import xgboost as xgb\n",
    "from sklearn.feature_extraction import DictVectorizer\n",
    "from sklearn.model_selection import train_test_split\n",
    "from sklearn.preprocessing import Imputer,scale,normalize,MinMaxScaler\n",
    "from pandas import Series,DataFrame \n",
    "import sklearn.preprocessing as preprocessing \n",
    "from sklearn import linear_model \n",
    "from sklearn.model_selection import cross_val_score\n",
    "from sklearn.ensemble import RandomForestRegressor\n",
    "#读取训练集\n",
    "train = pd.read_csv('/Users/Administrator/Desktop/train.csv')\n",
    "#读取测试集\n",
    "test = pd.read_csv('/Users/Administrator/Desktop/test.csv')\n",
    "#features选取\n",
    "X_train = train[['Label','I1','I2','I3','I4','I5','I6','I7','I8','I9','I10','I11','I12','I13']]\n",
    "X_test = test[['I1','I2','I3','I4','I5','I6','I7','I8','I9','I10','I11','I12','I13']]\n",
    " \n",
    "y_train = train['Label']\n",
    "\n",
    "X_train['I1'].fillna(X_train['I1'].mean(),inplace = True)\n",
    "X_train['I2'].fillna(X_train['I2'].mean(),inplace = True)\n",
    "X_train['I3'].fillna(X_train['I3'].mean(),inplace = True)\n",
    "X_train['I4'].fillna(X_train['I4'].mean(),inplace = True)\n",
    "X_train['I5'].fillna(X_train['I5'].mean(),inplace = True)\n",
    "X_train['I6'].fillna(X_train['I6'].mean(),inplace = True)\n",
    "X_train['I7'].fillna(X_train['I7'].mean(),inplace = True)\n",
    "X_train['I8'].fillna(X_train['I8'].mean(),inplace = True)\n",
    "X_train['I9'].fillna(X_train['I9'].mean(),inplace = True)\n",
    "X_train['I10'].fillna(X_train['I10'].mean(),inplace = True)\n",
    "X_train['I11'].fillna(X_train['I11'].mean(),inplace = True) \n",
    "X_train['I12'].fillna(X_train['I12'].mean(),inplace = True)\n",
    "X_train['I13'].fillna(X_train['I13'].mean(),inplace = True)\n",
    "X_test['I1'].fillna(X_test['I1'].mean(),inplace = True)\n",
    "X_test['I2'].fillna(X_test['I2'].mean(),inplace = True)\n",
    "X_test['I3'].fillna(X_test['I3'].mean(),inplace = True)\n",
    "X_test['I4'].fillna(X_test['I4'].mean(),inplace = True)\n",
    "X_test['I5'].fillna(X_test['I5'].mean(),inplace = True)\n",
    "X_test['I6'].fillna(X_test['I6'].mean(),inplace = True)\n",
    "X_test['I7'].fillna(X_test['I7'].mean(),inplace = True)\n",
    "X_test['I8'].fillna(X_test['I8'].mean(),inplace = True)\n",
    "X_test['I9'].fillna(X_test['I9'].mean(),inplace = True)\n",
    "X_test['I10'].fillna(X_test['I10'].mean(),inplace = True)\n",
    "X_test['I11'].fillna(X_test['I11'].mean(),inplace = True)\n",
    "X_test['I12'].fillna(X_test['I12'].mean(),inplace = True)\n",
    "X_test['I13'].fillna(X_test['I13'].mean(),inplace = True)\n",
    "X_train.to_csv('/Users/Administrator/Desktop/train4.csv', index=False)\n",
    "X_test.to_csv('/Users/Administrator/Desktop/test4.csv', index=False)"
   ]
  }
 ],
 "metadata": {
  "kernelspec": {
   "display_name": "Python 3",
   "language": "python",
   "name": "python3"
  },
  "language_info": {
   "codemirror_mode": {
    "name": "ipython",
    "version": 3
   },
   "file_extension": ".py",
   "mimetype": "text/x-python",
   "name": "python",
   "nbconvert_exporter": "python",
   "pygments_lexer": "ipython3",
   "version": "3.7.0"
  }
 },
 "nbformat": 4,
 "nbformat_minor": 2
}
